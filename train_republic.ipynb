{
 "cells": [
  {
   "cell_type": "markdown",
   "id": "0b621c1a",
   "metadata": {},
   "source": [
    "## Cleaning the text and pre processing \n"
   ]
  },
  {
   "cell_type": "code",
   "execution_count": 3,
   "id": "e3c24670",
   "metadata": {},
   "outputs": [],
   "source": [
    "#functio to load text document\n",
    "def load_doc(filename):\n",
    "    file = open(filename, 'r')\n",
    "    text = file.read()\n",
    "    file.close()\n",
    "    return text"
   ]
  },
  {
   "cell_type": "code",
   "execution_count": 4,
   "id": "8091ead9",
   "metadata": {},
   "outputs": [
    {
     "name": "stdout",
     "output_type": "stream",
     "text": [
      "ï»¿ BOOK I.\n",
      "\n",
      "\n",
      "I went down yesterday to the Piraeus with Glaucon the son of Ariston,\n",
      "that I might offer up my prayers to the goddess (Bendis, the Thracian\n",
      "Artemis.); and also because I wanted to see in\n"
     ]
    }
   ],
   "source": [
    "in_filename = 'republic.txt'\n",
    "doc = load_doc(in_filename)\n",
    "print(doc[:200])"
   ]
  },
  {
   "cell_type": "code",
   "execution_count": 5,
   "id": "225cf4a1",
   "metadata": {},
   "outputs": [],
   "source": [
    "import string\n",
    "# clean the loaded document remove punctuations and one letter words and return it as tokens \n",
    "def clean_doc(doc):\n",
    "    doc = doc.replace('--', ' ')\n",
    "    tokens = doc.split()\n",
    "    table = str.maketrans('', '', string.punctuation)\n",
    "    tokens = [w.translate(table) for w in tokens]\n",
    "    tokens = [word for word in tokens if word.isalpha()]\n",
    "    tokens = [word.lower() for word in tokens]\n",
    "    return tokens"
   ]
  },
  {
   "cell_type": "code",
   "execution_count": 6,
   "id": "8f8c9358",
   "metadata": {},
   "outputs": [
    {
     "name": "stdout",
     "output_type": "stream",
     "text": [
      "['book', 'i', 'i', 'went', 'down', 'yesterday', 'to', 'the', 'piraeus', 'with', 'glaucon', 'the', 'son', 'of', 'ariston', 'that', 'i', 'might', 'offer', 'up', 'my', 'prayers', 'to', 'the', 'goddess', 'bendis', 'the', 'thracian', 'artemis', 'and', 'also', 'because', 'i', 'wanted', 'to', 'see', 'in', 'what', 'manner', 'they', 'would', 'celebrate', 'the', 'festival', 'which', 'was', 'a', 'new', 'thing', 'i', 'was', 'delighted', 'with', 'the', 'procession', 'of', 'the', 'inhabitants', 'but', 'that', 'of', 'the', 'thracians', 'was', 'equally', 'if', 'not', 'more', 'beautiful', 'when', 'we', 'had', 'finished', 'our', 'prayers', 'and', 'viewed', 'the', 'spectacle', 'we', 'turned', 'in', 'the', 'direction', 'of', 'the', 'city', 'and', 'at', 'that', 'instant', 'polemarchus', 'the', 'son', 'of', 'cephalus', 'chanced', 'to', 'catch', 'sight', 'of', 'us', 'from', 'a', 'distance', 'as', 'we', 'were', 'starting', 'on', 'our', 'way', 'home', 'and', 'told', 'his', 'servant', 'to', 'run', 'and', 'bid', 'us', 'wait', 'for', 'him', 'the', 'servant', 'took', 'hold', 'of', 'me', 'by', 'the', 'cloak', 'behind', 'and', 'said', 'polemarchus', 'desires', 'you', 'to', 'wait', 'i', 'turned', 'round', 'and', 'asked', 'him', 'where', 'his', 'master', 'was', 'there', 'he', 'is', 'said', 'the', 'youth', 'coming', 'after', 'you', 'if', 'you', 'will', 'only', 'wait', 'certainly', 'we', 'will', 'said', 'glaucon', 'and', 'in', 'a', 'few', 'minutes', 'polemarchus', 'appeared', 'and', 'with', 'him', 'adeimantus', 'brother', 'niceratus', 'the', 'son', 'of', 'nicias', 'and', 'several', 'others', 'who', 'had', 'been', 'at', 'the', 'procession', 'polemarchus', 'said', 'to']\n",
      "Total Tokens: 117342\n",
      "Unique Tokens: 7323\n"
     ]
    }
   ],
   "source": [
    "tokens = clean_doc(doc)\n",
    "print(tokens[:200])\n",
    "print('Total Tokens: %d' % len(tokens))\n",
    "print('Unique Tokens: %d' % len(set(tokens)))"
   ]
  },
  {
   "cell_type": "code",
   "execution_count": 7,
   "id": "d6d6e545",
   "metadata": {},
   "outputs": [
    {
     "name": "stdout",
     "output_type": "stream",
     "text": [
      "Total Sequences: 117291\n"
     ]
    }
   ],
   "source": [
    "# create sequences out of these tokens by selecting 51 tokens of which first 50 will be used as input and next 1 as output  \n",
    "length = 50 + 1\n",
    "sequences = list()\n",
    "for i in range(length, len(tokens)):\n",
    "    seq = tokens[i-length:i]\n",
    "    line = ' '.join(seq)\n",
    "    sequences.append(line)\n",
    "print('Total Sequences: %d' % len(sequences))"
   ]
  },
  {
   "cell_type": "code",
   "execution_count": 8,
   "id": "2ee91448",
   "metadata": {},
   "outputs": [],
   "source": [
    "# a function to save these sequences in a text file\n",
    "def save_doc(lines, filename):\n",
    "    data = '\\n'.join(lines)\n",
    "    file = open(filename, 'w')\n",
    "    file.write(data)\n",
    "    file.close()"
   ]
  },
  {
   "cell_type": "code",
   "execution_count": 9,
   "id": "99b77fcc",
   "metadata": {},
   "outputs": [],
   "source": [
    "out_filename = 'republic_sequences.txt'\n",
    "save_doc(sequences, out_filename)"
   ]
  },
  {
   "cell_type": "markdown",
   "id": "da960bea",
   "metadata": {},
   "source": [
    "# Training The model"
   ]
  },
  {
   "cell_type": "code",
   "execution_count": 10,
   "id": "5d3ce59e",
   "metadata": {},
   "outputs": [],
   "source": [
    "in_filename = 'republic_sequences.txt'\n",
    "doc = load_doc(in_filename)\n",
    "lines = doc.split('\\n')"
   ]
  },
  {
   "cell_type": "code",
   "execution_count": 11,
   "id": "bbf8528b",
   "metadata": {},
   "outputs": [],
   "source": [
    "from keras.preprocessing.text import Tokenizer\n",
    "\n",
    "# Encdiing the textual data\n",
    "tokenizer = Tokenizer()\n",
    "tokenizer.fit_on_texts(lines)# fit the tokenizer to text\n",
    "sequences = tokenizer.texts_to_sequences(lines) # convert the given text to integer sequence "
   ]
  },
  {
   "cell_type": "code",
   "execution_count": 14,
   "id": "0328e2bc",
   "metadata": {},
   "outputs": [],
   "source": [
    "vocab_size = len(tokenizer.word_index) + 1 # we take vocabulary size as vocabulary size + 1 because tokenizer return a 1 indexed tokens"
   ]
  },
  {
   "cell_type": "code",
   "execution_count": 15,
   "id": "17e5ed26",
   "metadata": {},
   "outputs": [],
   "source": [
    "import numpy as np\n",
    "from keras.utils import to_categorical\n",
    "\n",
    "sequences = np.array(sequences)\n",
    "X, y = sequences[:,:-1], sequences[:,-1]\n",
    "y = to_categorical(y, num_classes=vocab_size) # one hot encode on the basis of 51st word \n",
    "seq_length = X.shape[1]"
   ]
  },
  {
   "cell_type": "code",
   "execution_count": 16,
   "id": "4a0a2e6c",
   "metadata": {},
   "outputs": [
    {
     "name": "stdout",
     "output_type": "stream",
     "text": [
      "Model: \"sequential_1\"\n",
      "_________________________________________________________________\n",
      " Layer (type)                Output Shape              Param #   \n",
      "=================================================================\n",
      " embedding (Embedding)       (None, 50, 50)            366200    \n",
      "                                                                 \n",
      " lstm (LSTM)                 (None, 50, 100)           60400     \n",
      "                                                                 \n",
      " lstm_1 (LSTM)               (None, 100)               80400     \n",
      "                                                                 \n",
      " dense (Dense)               (None, 100)               10100     \n",
      "                                                                 \n",
      " dense_1 (Dense)             (None, 7324)              739724    \n",
      "                                                                 \n",
      "=================================================================\n",
      "Total params: 1,256,824\n",
      "Trainable params: 1,256,824\n",
      "Non-trainable params: 0\n",
      "_________________________________________________________________\n",
      "None\n"
     ]
    }
   ],
   "source": [
    "import tensorflow as tf\n",
    "from tensorflow import keras\n",
    "from tensorflow.keras import layers\n",
    "\n",
    "\n",
    "model = keras.Sequential() # creating a sequential model\n",
    "model.add(layers.Embedding(input_dim=vocab_size, output_dim =  50, input_length=seq_length)) # turns +ve indexes to dense vectors\n",
    "model.add(layers.LSTM(100, return_sequences=True)) # two LSTM layers of 100 neurons each\n",
    "model.add(layers.LSTM(100))\n",
    "model.add(layers.Dense(100, activation='relu')) # redense layer to reduce losses while learning \n",
    "model.add(layers.Dense(vocab_size, activation='softmax')) # dense \n",
    "print(model.summary())"
   ]
  },
  {
   "cell_type": "code",
   "execution_count": 17,
   "id": "a06dae03",
   "metadata": {},
   "outputs": [
    {
     "name": "stdout",
     "output_type": "stream",
     "text": [
      "Epoch 1/100\n",
      "917/917 [==============================] - 149s 159ms/step - loss: 6.1475 - accuracy: 0.0735\n",
      "Epoch 2/100\n",
      "917/917 [==============================] - 140s 153ms/step - loss: 5.6910 - accuracy: 0.1054\n",
      "Epoch 3/100\n",
      "917/917 [==============================] - 141s 154ms/step - loss: 5.4575 - accuracy: 0.1281\n",
      "Epoch 4/100\n",
      "917/917 [==============================] - 143s 156ms/step - loss: 5.2914 - accuracy: 0.1454\n",
      "Epoch 5/100\n",
      "917/917 [==============================] - 145s 158ms/step - loss: 5.1702 - accuracy: 0.1534\n",
      "Epoch 6/100\n",
      "917/917 [==============================] - 144s 157ms/step - loss: 5.0734 - accuracy: 0.1604\n",
      "Epoch 7/100\n",
      "917/917 [==============================] - 144s 157ms/step - loss: 4.9862 - accuracy: 0.1659\n",
      "Epoch 8/100\n",
      "917/917 [==============================] - 147s 160ms/step - loss: 4.9285 - accuracy: 0.1685\n",
      "Epoch 9/100\n",
      "917/917 [==============================] - 146s 159ms/step - loss: 4.8353 - accuracy: 0.1755\n",
      "Epoch 10/100\n",
      "917/917 [==============================] - 146s 160ms/step - loss: 4.7632 - accuracy: 0.1785\n",
      "Epoch 11/100\n",
      "917/917 [==============================] - 147s 161ms/step - loss: 4.6947 - accuracy: 0.1829\n",
      "Epoch 12/100\n",
      "917/917 [==============================] - 147s 160ms/step - loss: 4.6294 - accuracy: 0.1853\n",
      "Epoch 13/100\n",
      "917/917 [==============================] - 146s 159ms/step - loss: 4.5677 - accuracy: 0.1886\n",
      "Epoch 14/100\n",
      "917/917 [==============================] - 146s 159ms/step - loss: 4.5084 - accuracy: 0.1919\n",
      "Epoch 15/100\n",
      "917/917 [==============================] - 146s 159ms/step - loss: 4.4520 - accuracy: 0.1939\n",
      "Epoch 16/100\n",
      "917/917 [==============================] - 147s 160ms/step - loss: 4.4000 - accuracy: 0.1967\n",
      "Epoch 17/100\n",
      "917/917 [==============================] - 146s 159ms/step - loss: 4.3523 - accuracy: 0.1997\n",
      "Epoch 18/100\n",
      "917/917 [==============================] - 147s 160ms/step - loss: 4.3033 - accuracy: 0.2027\n",
      "Epoch 19/100\n",
      "917/917 [==============================] - 148s 161ms/step - loss: 4.2605 - accuracy: 0.2058\n",
      "Epoch 20/100\n",
      "917/917 [==============================] - 148s 161ms/step - loss: 4.2593 - accuracy: 0.2061\n",
      "Epoch 21/100\n",
      "917/917 [==============================] - 149s 162ms/step - loss: 4.2696 - accuracy: 0.2054\n",
      "Epoch 22/100\n",
      "917/917 [==============================] - 150s 163ms/step - loss: 4.1988 - accuracy: 0.2097\n",
      "Epoch 23/100\n",
      "917/917 [==============================] - 150s 164ms/step - loss: 4.1290 - accuracy: 0.2147\n",
      "Epoch 24/100\n",
      "917/917 [==============================] - 151s 165ms/step - loss: 4.1045 - accuracy: 0.2154\n",
      "Epoch 25/100\n",
      "917/917 [==============================] - 164s 179ms/step - loss: 4.0673 - accuracy: 0.2189\n",
      "Epoch 26/100\n",
      "917/917 [==============================] - 153s 167ms/step - loss: 4.0747 - accuracy: 0.2181\n",
      "Epoch 27/100\n",
      "917/917 [==============================] - 153s 166ms/step - loss: 3.9918 - accuracy: 0.2242\n",
      "Epoch 28/100\n",
      "917/917 [==============================] - 154s 167ms/step - loss: 3.9780 - accuracy: 0.2257\n",
      "Epoch 29/100\n",
      "917/917 [==============================] - 154s 168ms/step - loss: 3.9684 - accuracy: 0.2276\n",
      "Epoch 30/100\n",
      "917/917 [==============================] - 153s 167ms/step - loss: 3.9367 - accuracy: 0.2302\n",
      "Epoch 31/100\n",
      "917/917 [==============================] - 154s 168ms/step - loss: 3.8719 - accuracy: 0.2361\n",
      "Epoch 32/100\n",
      "917/917 [==============================] - 154s 168ms/step - loss: 3.8451 - accuracy: 0.2384\n",
      "Epoch 33/100\n",
      "917/917 [==============================] - 154s 168ms/step - loss: 3.8133 - accuracy: 0.2415\n",
      "Epoch 34/100\n",
      "917/917 [==============================] - 155s 169ms/step - loss: 3.7775 - accuracy: 0.2445\n",
      "Epoch 35/100\n",
      "917/917 [==============================] - 158s 172ms/step - loss: 3.7397 - accuracy: 0.2484\n",
      "Epoch 36/100\n",
      "917/917 [==============================] - 157s 171ms/step - loss: 3.7291 - accuracy: 0.2507\n",
      "Epoch 37/100\n",
      "917/917 [==============================] - 157s 171ms/step - loss: 3.7243 - accuracy: 0.2504\n",
      "Epoch 38/100\n",
      "917/917 [==============================] - 174s 190ms/step - loss: 3.6879 - accuracy: 0.2551\n",
      "Epoch 39/100\n",
      "917/917 [==============================] - 168s 183ms/step - loss: 3.6440 - accuracy: 0.2596\n",
      "Epoch 40/100\n",
      "917/917 [==============================] - 160s 175ms/step - loss: 3.6229 - accuracy: 0.2610\n",
      "Epoch 41/100\n",
      "917/917 [==============================] - 167s 182ms/step - loss: 3.5863 - accuracy: 0.2651\n",
      "Epoch 42/100\n",
      "917/917 [==============================] - 169s 184ms/step - loss: 3.5583 - accuracy: 0.2675\n",
      "Epoch 43/100\n",
      "917/917 [==============================] - 180s 196ms/step - loss: 3.5245 - accuracy: 0.2719\n",
      "Epoch 44/100\n",
      "917/917 [==============================] - 186s 203ms/step - loss: 3.5234 - accuracy: 0.2744\n",
      "Epoch 45/100\n",
      "917/917 [==============================] - 188s 205ms/step - loss: 3.4992 - accuracy: 0.2751\n",
      "Epoch 46/100\n",
      "917/917 [==============================] - 179s 195ms/step - loss: 3.4592 - accuracy: 0.2801\n",
      "Epoch 47/100\n",
      "917/917 [==============================] - 172s 188ms/step - loss: 3.4276 - accuracy: 0.2849\n",
      "Epoch 48/100\n",
      "917/917 [==============================] - 175s 191ms/step - loss: 3.4063 - accuracy: 0.2885\n",
      "Epoch 49/100\n",
      "917/917 [==============================] - 176s 192ms/step - loss: 3.3764 - accuracy: 0.2903\n",
      "Epoch 50/100\n",
      "917/917 [==============================] - 184s 200ms/step - loss: 3.3622 - accuracy: 0.2937\n",
      "Epoch 51/100\n",
      "917/917 [==============================] - 182s 199ms/step - loss: 3.3419 - accuracy: 0.2957\n",
      "Epoch 52/100\n",
      "917/917 [==============================] - 179s 195ms/step - loss: 3.3368 - accuracy: 0.2974\n",
      "Epoch 53/100\n",
      "917/917 [==============================] - 178s 194ms/step - loss: 3.3070 - accuracy: 0.3014\n",
      "Epoch 54/100\n",
      "917/917 [==============================] - 186s 203ms/step - loss: 3.2886 - accuracy: 0.3046\n",
      "Epoch 55/100\n",
      "917/917 [==============================] - 191s 209ms/step - loss: 3.2607 - accuracy: 0.3091\n",
      "Epoch 56/100\n",
      "917/917 [==============================] - 192s 209ms/step - loss: 3.2248 - accuracy: 0.3123\n",
      "Epoch 57/100\n",
      "917/917 [==============================] - 186s 203ms/step - loss: 3.2137 - accuracy: 0.3158\n",
      "Epoch 58/100\n",
      "917/917 [==============================] - 179s 195ms/step - loss: 3.1955 - accuracy: 0.3174\n",
      "Epoch 59/100\n",
      "917/917 [==============================] - 183s 199ms/step - loss: 3.3156 - accuracy: 0.3061\n",
      "Epoch 60/100\n",
      "917/917 [==============================] - 184s 201ms/step - loss: 3.1765 - accuracy: 0.3220\n",
      "Epoch 61/100\n",
      "917/917 [==============================] - 187s 204ms/step - loss: 3.1584 - accuracy: 0.3252\n",
      "Epoch 62/100\n",
      "917/917 [==============================] - 187s 204ms/step - loss: 3.1281 - accuracy: 0.3283\n",
      "Epoch 63/100\n",
      "917/917 [==============================] - 189s 206ms/step - loss: 3.1017 - accuracy: 0.3323\n",
      "Epoch 64/100\n",
      "917/917 [==============================] - 207s 225ms/step - loss: 3.0837 - accuracy: 0.3355\n",
      "Epoch 65/100\n",
      "917/917 [==============================] - 202s 220ms/step - loss: 3.0638 - accuracy: 0.3380\n",
      "Epoch 66/100\n",
      "917/917 [==============================] - 203s 221ms/step - loss: 3.0365 - accuracy: 0.3437\n",
      "Epoch 67/100\n",
      "917/917 [==============================] - 187s 204ms/step - loss: 3.0147 - accuracy: 0.3451\n",
      "Epoch 68/100\n",
      "917/917 [==============================] - 188s 204ms/step - loss: 2.9857 - accuracy: 0.3514\n",
      "Epoch 69/100\n",
      "917/917 [==============================] - 187s 204ms/step - loss: 2.9551 - accuracy: 0.3569\n",
      "Epoch 70/100\n",
      "917/917 [==============================] - 188s 205ms/step - loss: 2.9374 - accuracy: 0.3585\n",
      "Epoch 71/100\n",
      "917/917 [==============================] - 187s 204ms/step - loss: 2.9367 - accuracy: 0.3596\n",
      "Epoch 72/100\n",
      "917/917 [==============================] - 181s 197ms/step - loss: 2.9208 - accuracy: 0.3626\n",
      "Epoch 73/100\n",
      "917/917 [==============================] - 181s 197ms/step - loss: 2.9328 - accuracy: 0.3623\n",
      "Epoch 74/100\n",
      "917/917 [==============================] - 183s 199ms/step - loss: 2.9842 - accuracy: 0.3550\n",
      "Epoch 75/100\n",
      "917/917 [==============================] - 183s 200ms/step - loss: 2.8958 - accuracy: 0.3697\n",
      "Epoch 76/100\n",
      "917/917 [==============================] - 188s 205ms/step - loss: 2.8764 - accuracy: 0.3721\n",
      "Epoch 77/100\n",
      "917/917 [==============================] - 196s 214ms/step - loss: 2.8453 - accuracy: 0.3763\n",
      "Epoch 78/100\n",
      "917/917 [==============================] - 200s 218ms/step - loss: 2.8314 - accuracy: 0.3781\n",
      "Epoch 79/100\n",
      "917/917 [==============================] - 208s 227ms/step - loss: 2.8050 - accuracy: 0.3819\n",
      "Epoch 80/100\n",
      "917/917 [==============================] - 211s 230ms/step - loss: 2.7847 - accuracy: 0.3851\n",
      "Epoch 81/100\n",
      "917/917 [==============================] - 218s 237ms/step - loss: 2.7607 - accuracy: 0.3896\n",
      "Epoch 82/100\n",
      "917/917 [==============================] - 210s 229ms/step - loss: 2.7375 - accuracy: 0.3944\n",
      "Epoch 83/100\n",
      "917/917 [==============================] - 207s 225ms/step - loss: 2.7526 - accuracy: 0.3950\n",
      "Epoch 84/100\n",
      "917/917 [==============================] - 211s 230ms/step - loss: 2.8795 - accuracy: 0.3829\n",
      "Epoch 85/100\n",
      "917/917 [==============================] - 215s 234ms/step - loss: 2.8701 - accuracy: 0.3838\n",
      "Epoch 86/100\n",
      "917/917 [==============================] - 212s 231ms/step - loss: 2.7695 - accuracy: 0.3948\n",
      "Epoch 87/100\n",
      "917/917 [==============================] - 210s 229ms/step - loss: 2.7332 - accuracy: 0.3998\n",
      "Epoch 88/100\n",
      "917/917 [==============================] - 213s 232ms/step - loss: 2.6927 - accuracy: 0.4044\n",
      "Epoch 89/100\n",
      "917/917 [==============================] - 225s 245ms/step - loss: 2.6752 - accuracy: 0.4076\n",
      "Epoch 90/100\n",
      "917/917 [==============================] - 239s 261ms/step - loss: 2.7252 - accuracy: 0.4046\n",
      "Epoch 91/100\n",
      "917/917 [==============================] - 223s 243ms/step - loss: 2.6665 - accuracy: 0.4112\n",
      "Epoch 92/100\n",
      "917/917 [==============================] - 230s 250ms/step - loss: 2.6853 - accuracy: 0.4092\n",
      "Epoch 93/100\n",
      "917/917 [==============================] - 215s 234ms/step - loss: 2.6671 - accuracy: 0.4136\n",
      "Epoch 94/100\n",
      "917/917 [==============================] - 216s 235ms/step - loss: 2.7453 - accuracy: 0.4040\n",
      "Epoch 95/100\n",
      "917/917 [==============================] - 218s 238ms/step - loss: 2.6724 - accuracy: 0.4129\n",
      "Epoch 96/100\n",
      "917/917 [==============================] - 219s 238ms/step - loss: 2.6363 - accuracy: 0.4170\n",
      "Epoch 97/100\n",
      "917/917 [==============================] - 226s 246ms/step - loss: 2.5787 - accuracy: 0.4256\n",
      "Epoch 98/100\n",
      "917/917 [==============================] - 230s 251ms/step - loss: 2.5571 - accuracy: 0.4291\n",
      "Epoch 99/100\n",
      "917/917 [==============================] - 227s 247ms/step - loss: 2.5471 - accuracy: 0.4306\n",
      "Epoch 100/100\n",
      "917/917 [==============================] - 224s 244ms/step - loss: 2.6263 - accuracy: 0.4146\n"
     ]
    },
    {
     "data": {
      "text/plain": [
       "<keras.callbacks.History at 0x1dd66077490>"
      ]
     },
     "execution_count": 17,
     "metadata": {},
     "output_type": "execute_result"
    }
   ],
   "source": [
    "model.compile(loss='categorical_crossentropy', optimizer='adam', metrics=['accuracy'])\n",
    "model.fit(X, y, batch_size=128, epochs=100)"
   ]
  },
  {
   "cell_type": "code",
   "execution_count": 18,
   "id": "0457022d",
   "metadata": {},
   "outputs": [],
   "source": [
    "# saving the model\n",
    "from numpy import array\n",
    "from pickle import dump\n",
    "from keras.preprocessing.text import Tokenizer\n",
    "from keras.utils import to_categorical\n",
    "from keras.models import Sequential\n",
    "from keras.layers import Dense\n",
    "from keras.layers import LSTM\n",
    "from keras.layers import Embedding\n",
    "\n",
    "model.save('model_republic.h5')\n",
    "dump(tokenizer, open('tokenizer_republic.pkl', 'wb'))"
   ]
  }
 ],
 "metadata": {
  "kernelspec": {
   "display_name": "Python 3 (ipykernel)",
   "language": "python",
   "name": "python3"
  },
  "language_info": {
   "codemirror_mode": {
    "name": "ipython",
    "version": 3
   },
   "file_extension": ".py",
   "mimetype": "text/x-python",
   "name": "python",
   "nbconvert_exporter": "python",
   "pygments_lexer": "ipython3",
   "version": "3.9.6"
  }
 },
 "nbformat": 4,
 "nbformat_minor": 5
}
